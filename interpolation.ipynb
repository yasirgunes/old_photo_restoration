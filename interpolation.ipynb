{
 "cells": [
  {
   "cell_type": "code",
   "execution_count": 3,
   "metadata": {},
   "outputs": [
    {
     "ename": "FileNotFoundError",
     "evalue": "Mask file not found",
     "output_type": "error",
     "traceback": [
      "\u001b[1;31m---------------------------------------------------------------------------\u001b[0m",
      "\u001b[1;31mFileNotFoundError\u001b[0m                         Traceback (most recent call last)",
      "Cell \u001b[1;32mIn[3], line 42\u001b[0m\n\u001b[0;32m     40\u001b[0m mask \u001b[38;5;241m=\u001b[39m cv2\u001b[38;5;241m.\u001b[39mimread(\u001b[38;5;124m'\u001b[39m\u001b[38;5;124mscratch_mask.jpg\u001b[39m\u001b[38;5;124m'\u001b[39m, cv2\u001b[38;5;241m.\u001b[39mIMREAD_GRAYSCALE)\n\u001b[0;32m     41\u001b[0m \u001b[38;5;28;01mif\u001b[39;00m mask \u001b[38;5;129;01mis\u001b[39;00m \u001b[38;5;28;01mNone\u001b[39;00m:\n\u001b[1;32m---> 42\u001b[0m     \u001b[38;5;28;01mraise\u001b[39;00m \u001b[38;5;167;01mFileNotFoundError\u001b[39;00m(\u001b[38;5;124m'\u001b[39m\u001b[38;5;124mMask file not found\u001b[39m\u001b[38;5;124m'\u001b[39m)\n\u001b[0;32m     43\u001b[0m mask \u001b[38;5;241m=\u001b[39m mask \u001b[38;5;241m>\u001b[39m \u001b[38;5;241m128\u001b[39m  \u001b[38;5;66;03m# Threshold for mask\u001b[39;00m\n\u001b[0;32m     45\u001b[0m \u001b[38;5;66;03m# Inpaint the image\u001b[39;00m\n",
      "\u001b[1;31mFileNotFoundError\u001b[0m: Mask file not found"
     ]
    }
   ],
   "source": [
    "import numpy as np\n",
    "import cv2\n",
    "import matplotlib.pyplot as plt\n",
    "\n",
    "def interpolate_inpaint(image, mask):\n",
    "    \"\"\"\n",
    "    Removes scratches in an image using interpolation.\n",
    "    \n",
    "    Args:\n",
    "        image (np.ndarray): Input image as a NumPy array.\n",
    "        mask (np.ndarray): Binary mask where scratches are 1 and non-damaged areas are 0.\n",
    "        \n",
    "    Returns:\n",
    "        np.ndarray: Restored image.\n",
    "    \"\"\"\n",
    "    restored_image = image.copy()\n",
    "    rows, cols = mask.shape\n",
    "\n",
    "    for i in range(rows):\n",
    "        for j in range(cols):\n",
    "            if mask[i, j] == 1:  # If it's a scratched pixel\n",
    "                neighbors = []\n",
    "\n",
    "                # Collect valid neighboring pixels\n",
    "                for x in range(max(0, i - 1), min(rows, i + 2)):\n",
    "                    for y in range(max(0, j - 1), min(cols, j + 2)):\n",
    "                        if mask[x, y] == 0:  # Only consider non-scratched neighbors\n",
    "                            neighbors.append(image[x, y])\n",
    "                \n",
    "                if neighbors:\n",
    "                    restored_image[i, j] = np.mean(neighbors)  # Replace with the mean of neighbors\n",
    "    \n",
    "    return restored_image\n",
    "\n",
    "# Example usage:\n",
    "# Load an image and mask\n",
    "image = cv2.imread('photos/kaggle archive/old_photo_05.jpg', cv2.IMREAD_GRAYSCALE)\n",
    "if image is None:\n",
    "    raise FileNotFoundError('Image file not found')\n",
    "mask = cv2.imread('scratch_mask.jpg', cv2.IMREAD_GRAYSCALE)\n",
    "if mask is None:\n",
    "    raise FileNotFoundError('Mask file not found')\n",
    "mask = mask > 128  # Threshold for mask\n",
    "\n",
    "# Inpaint the image\n",
    "restored = interpolate_inpaint(image, mask)\n",
    "\n",
    "# Display results\n",
    "plt.figure(figsize=(12, 6))\n",
    "plt.subplot(1, 2, 1)\n",
    "plt.title(\"Original Image\")\n",
    "plt.imshow(image, cmap='gray')\n",
    "\n",
    "plt.subplot(1, 2, 2)\n",
    "plt.title(\"Restored Image\")\n",
    "plt.imshow(restored, cmap='gray')\n",
    "plt.show()\n"
   ]
  }
 ],
 "metadata": {
  "kernelspec": {
   "display_name": "image_processing",
   "language": "python",
   "name": "python3"
  },
  "language_info": {
   "codemirror_mode": {
    "name": "ipython",
    "version": 3
   },
   "file_extension": ".py",
   "mimetype": "text/x-python",
   "name": "python",
   "nbconvert_exporter": "python",
   "pygments_lexer": "ipython3",
   "version": "3.12.8"
  }
 },
 "nbformat": 4,
 "nbformat_minor": 2
}
